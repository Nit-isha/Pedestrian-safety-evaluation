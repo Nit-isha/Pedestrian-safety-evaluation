{
 "cells": [
  {
   "cell_type": "code",
   "execution_count": 1,
   "id": "b7642ae3",
   "metadata": {},
   "outputs": [],
   "source": [
    "import pandas as pd\n",
    "import numpy as np\n",
    "from sklearn.model_selection import train_test_split\n",
    "from sklearn import svm, datasets\n",
    "from sklearn.svm import SVC\n",
    "from sklearn.metrics import classification_report\n",
    "from sklearn.metrics import accuracy_score\n",
    "from mlxtend.plotting import plot_decision_regions"
   ]
  },
  {
   "cell_type": "code",
   "execution_count": 2,
   "id": "3fead098",
   "metadata": {},
   "outputs": [
    {
     "data": {
      "text/html": [
       "<div>\n",
       "<style scoped>\n",
       "    .dataframe tbody tr th:only-of-type {\n",
       "        vertical-align: middle;\n",
       "    }\n",
       "\n",
       "    .dataframe tbody tr th {\n",
       "        vertical-align: top;\n",
       "    }\n",
       "\n",
       "    .dataframe thead th {\n",
       "        text-align: right;\n",
       "    }\n",
       "</style>\n",
       "<table border=\"1\" class=\"dataframe\">\n",
       "  <thead>\n",
       "    <tr style=\"text-align: right;\">\n",
       "      <th></th>\n",
       "      <th>PET</th>\n",
       "      <th>Speed</th>\n",
       "      <th>Class</th>\n",
       "    </tr>\n",
       "  </thead>\n",
       "  <tbody>\n",
       "    <tr>\n",
       "      <th>0</th>\n",
       "      <td>0.90</td>\n",
       "      <td>41</td>\n",
       "      <td>0</td>\n",
       "    </tr>\n",
       "    <tr>\n",
       "      <th>1</th>\n",
       "      <td>0.56</td>\n",
       "      <td>37</td>\n",
       "      <td>0</td>\n",
       "    </tr>\n",
       "    <tr>\n",
       "      <th>2</th>\n",
       "      <td>0.62</td>\n",
       "      <td>31</td>\n",
       "      <td>0</td>\n",
       "    </tr>\n",
       "    <tr>\n",
       "      <th>3</th>\n",
       "      <td>0.63</td>\n",
       "      <td>33</td>\n",
       "      <td>0</td>\n",
       "    </tr>\n",
       "    <tr>\n",
       "      <th>4</th>\n",
       "      <td>0.68</td>\n",
       "      <td>39</td>\n",
       "      <td>0</td>\n",
       "    </tr>\n",
       "  </tbody>\n",
       "</table>\n",
       "</div>"
      ],
      "text/plain": [
       "    PET  Speed   Class\n",
       "0  0.90      41      0\n",
       "1  0.56      37      0\n",
       "2  0.62      31      0\n",
       "3  0.63      33      0\n",
       "4  0.68      39      0"
      ]
     },
     "execution_count": 2,
     "metadata": {},
     "output_type": "execute_result"
    }
   ],
   "source": [
    "cell_df = pd.read_csv('Speed-PET.csv')\n",
    "cell_df.head()"
   ]
  },
  {
   "cell_type": "code",
   "execution_count": 3,
   "id": "d0830d99",
   "metadata": {},
   "outputs": [],
   "source": [
    "feature_df = cell_df[['PET', 'Speed ']]\n",
    "X = np.asarray(feature_df)\n",
    "y = np.asarray(cell_df['Class'])"
   ]
  },
  {
   "cell_type": "code",
   "execution_count": 4,
   "id": "6c14f329",
   "metadata": {},
   "outputs": [],
   "source": [
    "X_train, X_test, y_train, y_test = train_test_split(X, y, test_size=0.2, random_state=4)"
   ]
  },
  {
   "cell_type": "code",
   "execution_count": 5,
   "id": "12be3e18",
   "metadata": {},
   "outputs": [
    {
     "name": "stdout",
     "output_type": "stream",
     "text": [
      "              precision    recall  f1-score   support\n",
      "\n",
      "           0       0.67      0.67      0.67        12\n",
      "           1       0.67      0.67      0.67         9\n",
      "           2       0.92      0.92      0.92        13\n",
      "\n",
      "    accuracy                           0.76        34\n",
      "   macro avg       0.75      0.75      0.75        34\n",
      "weighted avg       0.76      0.76      0.76        34\n",
      "\n",
      "Accuracy Score: 0.7647058823529411\n"
     ]
    }
   ],
   "source": [
    "classifier = svm.SVC(kernel='linear', gamma='auto', C=3)\n",
    "classifier.fit(X_train, y_train)\n",
    "y_predict = classifier.predict(X_test)\n",
    "print(classification_report(y_test, y_predict))\n",
    "print(\"Accuracy Score:\",accuracy_score(y_test, y_predict))"
   ]
  },
  {
   "cell_type": "code",
   "execution_count": 6,
   "id": "d966c218",
   "metadata": {},
   "outputs": [
    {
     "name": "stdout",
     "output_type": "stream",
     "text": [
      "[[ 8  3  1]\n",
      " [ 3  6  0]\n",
      " [ 1  0 12]]\n"
     ]
    }
   ],
   "source": [
    "from sklearn.metrics import confusion_matrix\n",
    "cmatrix = confusion_matrix(y_predict, y_test)\n",
    "print(cmatrix)"
   ]
  },
  {
   "cell_type": "code",
   "execution_count": 7,
   "id": "3ece2399",
   "metadata": {},
   "outputs": [
    {
     "data": {
      "text/plain": [
       "<AxesSubplot:>"
      ]
     },
     "execution_count": 7,
     "metadata": {},
     "output_type": "execute_result"
    },
    {
     "data": {
      "image/png": "[encoded data removed]",
      "text/plain": [
       "<Figure size 432x288 with 1 Axes>"
      ]
     },
     "metadata": {
      "needs_background": "light"
     },
     "output_type": "display_data"
    }
   ],
   "source": [
    "plot_decision_regions(y= y_train, X= X_train,\n",
    "                      clf=classifier,\n",
    "                      legend=1,\n",
    "                      colors=('red,pink,yellow,blue,green,cyan'))"
   ]
  },
  {
   "cell_type": "code",
   "execution_count": 8,
   "id": "a50d128d",
   "metadata": {},
   "outputs": [
    {
     "data": {
      "text/plain": [
       "<AxesSubplot:>"
      ]
     },
     "execution_count": 8,
     "metadata": {},
     "output_type": "execute_result"
    },
    {
     "data": {
      "image/png": "[encoded data removed]",
      "text/plain": [
       "<Figure size 432x288 with 1 Axes>"
      ]
     },
     "metadata": {
      "needs_background": "light"
     },
     "output_type": "display_data"
    }
   ],
   "source": [
    "plot_decision_regions(y= y_test, \n",
    "                      X= X_test, \n",
    "                      clf=classifier,\n",
    "                      legend=4,\n",
    "                      colors=('red,pink,yellow,blue,green,cyan')\n",
    "                     )"
   ]
  },
  {
   "cell_type": "code",
   "execution_count": 9,
   "id": "6b181a89",
   "metadata": {},
   "outputs": [
    {
     "data": {
      "text/plain": [
       "<AxesSubplot:>"
      ]
     },
     "execution_count": 9,
     "metadata": {},
     "output_type": "execute_result"
    },
    {
     "data": {
      "image/png": "[encoded data removed]",
      "text/plain": [
       "<Figure size 432x288 with 1 Axes>"
      ]
     },
     "metadata": {
      "needs_background": "light"
     },
     "output_type": "display_data"
    }
   ],
   "source": [
    "plot_decision_regions(y= y_predict, \n",
    "                      X= X_test, \n",
    "                      clf=classifier,\n",
    "                      legend=4,\n",
    "                      colors=('red,pink,yellow,blue,green,cyan')\n",
    "                     )"
   ]
  },
  {
   "cell_type": "markdown",
   "id": "cfca8312",
   "metadata": {},
   "source": [
    "# Decision Tree Classifier"
   ]
  },
  {
   "cell_type": "code",
   "execution_count": 10,
   "id": "cb1269c7",
   "metadata": {},
   "outputs": [
    {
     "name": "stdout",
     "output_type": "stream",
     "text": [
      "              precision    recall  f1-score   support\n",
      "\n",
      "           0       0.55      0.50      0.52        12\n",
      "           1       0.62      0.56      0.59         9\n",
      "           2       0.73      0.85      0.79        13\n",
      "\n",
      "    accuracy                           0.65        34\n",
      "   macro avg       0.63      0.63      0.63        34\n",
      "weighted avg       0.64      0.65      0.64        34\n",
      "\n",
      "Accuracy Score: 0.6470588235294118\n"
     ]
    }
   ],
   "source": [
    "from sklearn import tree\n",
    "dt_clf = tree.DecisionTreeClassifier(max_depth=10)\n",
    "dt_clf.fit(X_train, y_train)\n",
    "dt_clf.score(X_test, y_test)\n",
    "y_pred = dt_clf.predict(X_test)\n",
    "print(classification_report(y_test, y_pred))\n",
    "print(\"Accuracy Score:\",accuracy_score(y_test, y_pred))"
   ]
  },
  {
   "cell_type": "markdown",
   "id": "f61b9f30",
   "metadata": {},
   "source": [
    "# Random Forest Classifier"
   ]
  },
  {
   "cell_type": "code",
   "execution_count": 11,
   "id": "e385ade0",
   "metadata": {},
   "outputs": [
    {
     "name": "stdout",
     "output_type": "stream",
     "text": [
      "              precision    recall  f1-score   support\n",
      "\n",
      "           0       0.50      0.42      0.45        12\n",
      "           1       0.56      0.56      0.56         9\n",
      "           2       0.80      0.92      0.86        13\n",
      "\n",
      "    accuracy                           0.65        34\n",
      "   macro avg       0.62      0.63      0.62        34\n",
      "weighted avg       0.63      0.65      0.64        34\n",
      "\n",
      "Accuracy Score: 0.6470588235294118\n"
     ]
    }
   ],
   "source": [
    "from sklearn import ensemble\n",
    "rf_clf = ensemble.RandomForestClassifier(n_estimators=100)\n",
    "rf_clf.fit(X_train, y_train)\n",
    "y_pred = rf_clf.predict(X_test)\n",
    "print(classification_report(y_test, y_pred))\n",
    "print(\"Accuracy Score:\",accuracy_score(y_test,y_pred))"
   ]
  },
  {
   "cell_type": "markdown",
   "id": "01fb9454",
   "metadata": {},
   "source": [
    "# Gradient Boosting Classifier"
   ]
  },
  {
   "cell_type": "code",
   "execution_count": 12,
   "id": "0ba52bb5",
   "metadata": {},
   "outputs": [
    {
     "name": "stdout",
     "output_type": "stream",
     "text": [
      "              precision    recall  f1-score   support\n",
      "\n",
      "           0       0.55      0.50      0.52        12\n",
      "           1       0.62      0.56      0.59         9\n",
      "           2       0.80      0.92      0.86        13\n",
      "\n",
      "    accuracy                           0.68        34\n",
      "   macro avg       0.66      0.66      0.66        34\n",
      "weighted avg       0.66      0.68      0.67        34\n",
      "\n",
      "Accuracy Score: 0.6764705882352942\n"
     ]
    }
   ],
   "source": [
    "from sklearn import ensemble\n",
    "gb_clf = ensemble.GradientBoostingClassifier(n_estimators=400)\n",
    "gb_clf.fit(X_train, y_train)\n",
    "y_pred = gb_clf.predict(X_test)\n",
    "print(classification_report(y_test, y_pred))\n",
    "print(\"Accuracy Score:\",accuracy_score(y_test,y_pred))"
   ]
  },
  {
   "cell_type": "markdown",
   "id": "b5b28ba9",
   "metadata": {},
   "source": [
    "# Naive Bayes Classifier"
   ]
  },
  {
   "cell_type": "code",
   "execution_count": 13,
   "id": "c6061fb4",
   "metadata": {},
   "outputs": [
    {
     "name": "stdout",
     "output_type": "stream",
     "text": [
      "              precision    recall  f1-score   support\n",
      "\n",
      "           0       0.47      0.67      0.55        12\n",
      "           1       0.20      0.11      0.14         9\n",
      "           2       0.92      0.85      0.88        13\n",
      "\n",
      "    accuracy                           0.59        34\n",
      "   macro avg       0.53      0.54      0.52        34\n",
      "weighted avg       0.57      0.59      0.57        34\n",
      "\n",
      "Accuracy Score: 0.5882352941176471\n"
     ]
    }
   ],
   "source": [
    "from sklearn.naive_bayes import GaussianNB\n",
    "nb_clf = GaussianNB()\n",
    "nb_clf.fit(X_train, y_train)\n",
    "y_pred = nb_clf.predict(X_test)\n",
    "print(classification_report(y_test, y_pred))\n",
    "print(\"Accuracy Score:\",accuracy_score(y_test,y_pred))"
   ]
  },
  {
   "cell_type": "markdown",
   "id": "8e3486d7",
   "metadata": {},
   "source": [
    "# K-Nearest Neighbors (KNN)"
   ]
  },
  {
   "cell_type": "code",
   "execution_count": 14,
   "id": "ed44b340",
   "metadata": {},
   "outputs": [
    {
     "name": "stdout",
     "output_type": "stream",
     "text": [
      "              precision    recall  f1-score   support\n",
      "\n",
      "           0       0.45      0.42      0.43        12\n",
      "           1       0.40      0.44      0.42         9\n",
      "           2       0.85      0.85      0.85        13\n",
      "\n",
      "    accuracy                           0.59        34\n",
      "   macro avg       0.57      0.57      0.57        34\n",
      "weighted avg       0.59      0.59      0.59        34\n",
      "\n",
      "Accuracy Score: 0.5882352941176471\n"
     ]
    }
   ],
   "source": [
    "from sklearn.neighbors import KNeighborsClassifier\n",
    "knn_clf = KNeighborsClassifier(n_neighbors=3)\n",
    "knn_clf.fit(X_train, y_train)\n",
    "y_pred = knn_clf.predict(X_test)\n",
    "print(classification_report(y_test, y_pred))\n",
    "print(\"Accuracy Score:\",accuracy_score(y_test,y_pred))"
   ]
  },
  {
   "cell_type": "markdown",
   "id": "11174ecb",
   "metadata": {},
   "source": [
    "# Logistic Regression"
   ]
  },
  {
   "cell_type": "code",
   "execution_count": 15,
   "id": "65b71ade",
   "metadata": {
    "scrolled": true
   },
   "outputs": [
    {
     "name": "stdout",
     "output_type": "stream",
     "text": [
      "              precision    recall  f1-score   support\n",
      "\n",
      "           0       0.62      0.67      0.64        12\n",
      "           1       0.57      0.44      0.50         9\n",
      "           2       0.86      0.92      0.89        13\n",
      "\n",
      "    accuracy                           0.71        34\n",
      "   macro avg       0.68      0.68      0.68        34\n",
      "weighted avg       0.70      0.71      0.70        34\n",
      "\n",
      "Accuracy Score: 0.7058823529411765\n"
     ]
    }
   ],
   "source": [
    "from sklearn.linear_model import LogisticRegression\n",
    "lr_clf = LogisticRegression()\n",
    "lr_clf.fit(X_train, y_train)\n",
    "y_pred = lr_clf.predict(X_test)\n",
    "print(classification_report(y_test, y_pred))\n",
    "print(\"Accuracy Score:\",accuracy_score(y_test,y_pred))"
   ]
  },
  {
   "cell_type": "code",
   "execution_count": 16,
   "id": "ad872654",
   "metadata": {},
   "outputs": [
    {
     "name": "stdout",
     "output_type": "stream",
     "text": [
      "Accuracy Score\n",
      "_____________________________________\n",
      "Random Forest Prediction: 0.647\n",
      "Naive Bayes: 0.588\n",
      "Decision Tree Prediction: 0.647\n",
      "Gradient Boosting Prediction: 0.676\n",
      "KNearest Neighbors Prediction: 0.588\n",
      "Logistic Regression: 0.706\n",
      "Support Vector Machine: 0.765\n",
      "_____________________________________\n"
     ]
    }
   ],
   "source": [
    "print(\"Accuracy Score\")\n",
    "print(\"_____________________________________\")\n",
    "print(\"Random Forest Prediction: %.3f\" %(rf_clf.score(X_test, y_test)))\n",
    "print(\"Naive Bayes: %.3f\" %(nb_clf.score(X_test, y_test)))\n",
    "print(\"Decision Tree Prediction: %.3f\" %(dt_clf.score(X_test, y_test)))\n",
    "print(\"Gradient Boosting Prediction: %.3f\" %(gb_clf.score(X_test, y_test)))\n",
    "print(\"KNearest Neighbors Prediction: %.3f\" %(knn_clf.score(X_test, y_test)))\n",
    "print(\"Logistic Regression: %.3f\" %(lr_clf.score(X_test, y_test)))\n",
    "print(\"Support Vector Machine: %.3f\" %(classifier.score(X_test, y_test)))\n",
    "print(\"_____________________________________\")"
   ]
  },
  {
   "cell_type": "code",
   "execution_count": null,
   "id": "73bb538d",
   "metadata": {},
   "outputs": [],
   "source": []
  }
 ],
 "metadata": {
  "kernelspec": {
   "display_name": "Python 3",
   "language": "python",
   "name": "python3"
  },
  "language_info": {
   "codemirror_mode": {
    "name": "ipython",
    "version": 3
   },
   "file_extension": ".py",
   "mimetype": "text/x-python",
   "name": "python",
   "nbconvert_exporter": "python",
   "pygments_lexer": "ipython3",
   "version": "3.9.6"
  }
 },
 "nbformat": 4,
 "nbformat_minor": 5
}
